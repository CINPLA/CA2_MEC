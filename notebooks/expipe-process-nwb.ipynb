{
 "cells": [
  {
   "cell_type": "code",
   "execution_count": 1,
   "metadata": {},
   "outputs": [],
   "source": [
    "%load_ext autoreload\n",
    "%autoreload 2"
   ]
  },
  {
   "cell_type": "code",
   "execution_count": 2,
   "metadata": {},
   "outputs": [],
   "source": [
    "#import expipe_plugin_cinpla\n",
    "from expipe_plugin_cinpla import display_browser\n"
   ]
  },
  {
   "cell_type": "code",
   "execution_count": 3,
   "metadata": {},
   "outputs": [
    {
     "name": "stderr",
     "output_type": "stream",
     "text": [
      "/fp/projects01/ec109/software/expipe/expipe/core.py:700: UserWarning: Requested project with name 'hpc-social-nwb', but found 'hpc-social'\n",
      "  warnings.warn(\n",
      "/projects/ec109/conda-envs/cinpla/lib/python3.11/site-packages/traittypes/traittypes.py:20: DeprecationWarning: \n",
      "            Sentinel is not a public part of the traitlets API.\n",
      "            It was published by mistake, and may be removed in the future.\n",
      "            \n",
      "  Empty = Sentinel('Empty', 'traittypes',\n",
      "/projects/ec109/conda-envs/cinpla/lib/python3.11/site-packages/bqplot/plotting_widgets.py:30: DeprecationWarning: metadata {'dtype': None} was set from the constructor. With traitlets 4.1, metadata should be set using the .tag() method, e.g., Int().tag(key1='value1', key2='value2')\n",
      "  data = DataFrame()\n"
     ]
    },
    {
     "data": {
      "application/vnd.jupyter.widget-view+json": {
       "model_id": "fea820fe96ff488b88335ebeb77997ae",
       "version_major": 2,
       "version_minor": 0
      },
      "text/plain": [
       "Tab(children=(Tab(children=(BaseViewWithLog(children=(HBox(children=(VBox(children=(Text(value='', layout=Layo…"
      ]
     },
     "metadata": {},
     "output_type": "display_data"
    }
   ],
   "source": [
    "project_path = ('/projects/ec109/Sarah/projects/hpc-social-nwb')\n",
    "display_browser('/projects/ec109/Sarah/projects/hpc-social-nwb')"
   ]
  },
  {
   "cell_type": "code",
   "execution_count": 7,
   "metadata": {},
   "outputs": [
    {
     "name": "stdout",
     "output_type": "stream",
     "text": [
      "[ 18  52  60 100 114 118 124 134 139 145 162 176 196 212 213 220 221 223\n",
      " 236 255 256]\n"
     ]
    }
   ],
   "source": [
    "##Viewing phy cluster ID in a curated recording\n",
    "\n",
    "import spikeinterface.extractors as se\n",
    "\n",
    "sorting_phy = se.read_phy(\"/projects/ec109/Sarah/projects/hpc-social-nwb/actions/007-081221-1/data/spikeinterface/mountainsort4/phy/\", exclude_cluster_groups=[\"noise\"]) \n",
    "# you can copy past it from the GUI (after `phy template-gui`)\n",
    "# note that you have to remove the params.py from the file path\n",
    "\n",
    "print(sorting_phy.get_property(\"original_cluster_id\"))\n",
    "\n",
    "#sorting_phy = se.read_phy(\"/projects/ec109/Sarah/projects/hpc-social-nwb/actions/007-081221-1/data/spikeinterface/mountainsort4/phy/\", exclude_cluster_groups=[\"noise\"])\n"
   ]
  },
  {
   "cell_type": "code",
   "execution_count": null,
   "metadata": {},
   "outputs": [],
   "source": []
  },
  {
   "cell_type": "code",
   "execution_count": null,
   "metadata": {},
   "outputs": [],
   "source": []
  }
 ],
 "metadata": {
  "kernelspec": {
   "display_name": "cinpla",
   "language": "python",
   "name": "cinpla"
  },
  "language_info": {
   "codemirror_mode": {
    "name": "ipython",
    "version": 3
   },
   "file_extension": ".py",
   "mimetype": "text/x-python",
   "name": "python",
   "nbconvert_exporter": "python",
   "pygments_lexer": "ipython3",
   "version": "3.11.8"
  }
 },
 "nbformat": 4,
 "nbformat_minor": 4
}
